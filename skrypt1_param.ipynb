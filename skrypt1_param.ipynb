{
 "cells": [
  {
   "cell_type": "code",
   "execution_count": 37,
   "metadata": {},
   "outputs": [],
   "source": [
    "import os \n",
    "import sys\n",
    "#pliki = os.listdir('.')\n",
    "#for plik in pliki:\n",
    "#    if plik.endswith(\".json\"):\n",
    "#        nazwa,rozszerzenie=os.path.splitext(plik)\n",
    "#        print(\"Znalazlem {}{}\".format(nazwa,rozszerzenie))             \n",
    "import json\n",
    "dane = {\n",
    "  \"ConnectionStrings\": {\n",
    "       \"ConnectionString\": [{\n",
    "           \"DataSource\": \"dejtasors\",\n",
    "           \"UID\": \"ID\",\n",
    "           \"PWD\": \"PA$$\",\n",
    "           \"DATABASE\": \"Nazwa\"\n",
    "       },\n",
    "           {\n",
    "           \"DataSource\": \"inny_dejtasors\",\n",
    "           \"UID\": \"inne_ID\",\n",
    "           \"PWD\": \"inny_PA$$\",\n",
    "           \"DATABASE\": \"inna_Nazwa\"   \n",
    "       }]\n",
    "   },\n",
    "    \"Imie\": \"Jan\",\n",
    "    \"Nazwisko\":\"Kowalski\",\n",
    "    \"Wiek\":\"25\",\n",
    "    \"folders\": [\n",
    "        {\"folder\": \"Private Folder 1\"},\n",
    "          {\"folder\": \"Private Folder 2\"}\n",
    "      ]\n",
    "}\n",
    "if len(sys.argv) > 1:\n",
    "        with open((sys.argv[1]), 'w') as json_file:\n",
    "                json.dump(dane, json_file)\n",
    "with open('KonekszynStringi.json', 'w') as json_file:\n",
    "        json.dump(dane, json_file)\n",
    "    \n",
    "#with open(\"{}{}\".format(nazwa,rozszerzenie)) as json_file:\n",
    "#    data=json.load(json_file)\n",
    "#    print (data['ConnectionStrings']['ConnectionString'])\n",
    "#    print (\"Odstep :)\")\n",
    "#    print (data['ConnectionStrings'])"
   ]
  },
  {
   "cell_type": "code",
   "execution_count": null,
   "metadata": {},
   "outputs": [],
   "source": []
  }
 ],
 "metadata": {
  "kernelspec": {
   "display_name": "Python 3",
   "language": "python",
   "name": "python3"
  },
  "language_info": {
   "codemirror_mode": {
    "name": "ipython",
    "version": 3
   },
   "file_extension": ".py",
   "mimetype": "text/x-python",
   "name": "python",
   "nbconvert_exporter": "python",
   "pygments_lexer": "ipython3",
   "version": "3.8.5"
  }
 },
 "nbformat": 4,
 "nbformat_minor": 4
}
